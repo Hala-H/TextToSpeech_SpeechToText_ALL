{
 "cells": [
  {
   "cell_type": "markdown",
   "id": "6016dfff",
   "metadata": {},
   "source": [
    "# 0. Install and import dependencies\n",
    "\n"
   ]
  },
  {
   "cell_type": "code",
   "execution_count": 1,
   "id": "907ee2b9",
   "metadata": {},
   "outputs": [
    {
     "name": "stdout",
     "output_type": "stream",
     "text": [
      "Requirement already satisfied: ibm_watson in c:\\users\\hhane\\appdata\\local\\programs\\python\\python39\\lib\\site-packages (5.2.2)\n",
      "Requirement already satisfied: python-dateutil>=2.5.3 in c:\\users\\hhane\\appdata\\local\\programs\\python\\python39\\lib\\site-packages (from ibm_watson) (2.8.1)\n",
      "Requirement already satisfied: requests<3.0,>=2.0 in c:\\users\\hhane\\appdata\\local\\programs\\python\\python39\\lib\\site-packages (from ibm_watson) (2.25.1)\n",
      "Requirement already satisfied: websocket-client==1.1.0 in c:\\users\\hhane\\appdata\\local\\programs\\python\\python39\\lib\\site-packages (from ibm_watson) (1.1.0)\n",
      "Requirement already satisfied: ibm-cloud-sdk-core==3.*,>=3.3.6 in c:\\users\\hhane\\appdata\\local\\programs\\python\\python39\\lib\\site-packages (from ibm_watson) (3.10.1)\n",
      "Requirement already satisfied: PyJWT<3.0.0,>=2.0.1 in c:\\users\\hhane\\appdata\\local\\programs\\python\\python39\\lib\\site-packages (from ibm-cloud-sdk-core==3.*,>=3.3.6->ibm_watson) (2.1.0)\n",
      "Requirement already satisfied: six>=1.5 in c:\\users\\hhane\\appdata\\roaming\\python\\python39\\site-packages (from python-dateutil>=2.5.3->ibm_watson) (1.15.0)\n",
      "Requirement already satisfied: idna<3,>=2.5 in c:\\users\\hhane\\appdata\\local\\programs\\python\\python39\\lib\\site-packages (from requests<3.0,>=2.0->ibm_watson) (2.10)\n",
      "Requirement already satisfied: urllib3<1.27,>=1.21.1 in c:\\users\\hhane\\appdata\\local\\programs\\python\\python39\\lib\\site-packages (from requests<3.0,>=2.0->ibm_watson) (1.26.5)\n",
      "Requirement already satisfied: certifi>=2017.4.17 in c:\\users\\hhane\\appdata\\local\\programs\\python\\python39\\lib\\site-packages (from requests<3.0,>=2.0->ibm_watson) (2021.5.30)\n",
      "Requirement already satisfied: chardet<5,>=3.0.2 in c:\\users\\hhane\\appdata\\local\\programs\\python\\python39\\lib\\site-packages (from requests<3.0,>=2.0->ibm_watson) (4.0.0)\n",
      "Note: you may need to restart the kernel to use updated packages.\n"
     ]
    }
   ],
   "source": [
    "pip install ibm_watson"
   ]
  },
  {
   "cell_type": "code",
   "execution_count": 5,
   "id": "94fa4e19",
   "metadata": {},
   "outputs": [],
   "source": [
    "from ibm_watson import SpeechToTextV1\n",
    "from ibm_watson.websocket import RecognizeCallback, AudioSource\n",
    "from ibm_cloud_sdk_core.authenticators import IAMAuthenticator"
   ]
  },
  {
   "cell_type": "markdown",
   "id": "d6606f52",
   "metadata": {},
   "source": [
    "# 1. Setup STT Service"
   ]
  },
  {
   "cell_type": "code",
   "execution_count": 6,
   "id": "fb6074f7",
   "metadata": {},
   "outputs": [],
   "source": [
    "apikey = '6yqI4Ag-oUqMW_GZ02KEgwnWCPXqpUBO3Kt6ZoZhHBa5'\n",
    "url = 'https://api.us-south.speech-to-text.watson.cloud.ibm.com/instances/cbe70cfa-8d0a-42fb-a31a-703be7037637'"
   ]
  },
  {
   "cell_type": "code",
   "execution_count": 7,
   "id": "a6de75d3",
   "metadata": {},
   "outputs": [],
   "source": [
    "# Setup Service\n",
    "authenticator = IAMAuthenticator(apikey)\n",
    "# New TTS Service\n",
    "stt = SpeechToTextV1(authenticator=authenticator)\n",
    "# Set Service URL\n",
    "stt.set_service_url(url)"
   ]
  },
  {
   "cell_type": "markdown",
   "id": "56306c7a",
   "metadata": {},
   "source": [
    "# 2. Open Audio Source and Convert"
   ]
  },
  {
   "cell_type": "code",
   "execution_count": 16,
   "id": "4afbb538",
   "metadata": {},
   "outputs": [],
   "source": [
    "# perform conversion\n",
    "with open('./STT.mp3', 'rb') as f:\n",
    "    res=stt.recognize(audio = f, content_type='audio/mp3', model='en-US_NarrowbandModel', continuous = True).get_result()"
   ]
  },
  {
   "cell_type": "code",
   "execution_count": 17,
   "id": "38c38cb1",
   "metadata": {},
   "outputs": [
    {
     "data": {
      "text/plain": [
       "{'result_index': 0,\n",
       " 'results': [{'final': True,\n",
       "   'alternatives': [{'transcript': 'hi this is to ask for of the smart message internship this task is about speech to text and text to speech using IBM Watson %HESITATION and pricing thank you ',\n",
       "     'confidence': 0.82}]}]}"
      ]
     },
     "execution_count": 17,
     "metadata": {},
     "output_type": "execute_result"
    }
   ],
   "source": [
    "res"
   ]
  },
  {
   "cell_type": "code",
   "execution_count": 19,
   "id": "2f64de4b",
   "metadata": {},
   "outputs": [
    {
     "data": {
      "text/plain": [
       "'hi this is to ask for of the smart message internship this task is about speech to text and text to speech using IBM Watson %HESITATION and pricing thank you '"
      ]
     },
     "execution_count": 19,
     "metadata": {},
     "output_type": "execute_result"
    }
   ],
   "source": [
    "text = res['results'][0]['alternatives'][0]['transcript']\n",
    "text"
   ]
  },
  {
   "cell_type": "code",
   "execution_count": 20,
   "id": "cf25834c",
   "metadata": {},
   "outputs": [],
   "source": [
    "with open('output.txt', 'w') as out:\n",
    "    out.writelines(text)\n",
    "    "
   ]
  },
  {
   "cell_type": "markdown",
   "id": "24820fc9",
   "metadata": {},
   "source": [
    "# 3. Change Language Models"
   ]
  },
  {
   "cell_type": "code",
   "execution_count": null,
   "id": "4f634780",
   "metadata": {},
   "outputs": [],
   "source": []
  }
 ],
 "metadata": {
  "kernelspec": {
   "display_name": "Python 3",
   "language": "python",
   "name": "python3"
  },
  "language_info": {
   "codemirror_mode": {
    "name": "ipython",
    "version": 3
   },
   "file_extension": ".py",
   "mimetype": "text/x-python",
   "name": "python",
   "nbconvert_exporter": "python",
   "pygments_lexer": "ipython3",
   "version": "3.9.0"
  }
 },
 "nbformat": 4,
 "nbformat_minor": 5
}
