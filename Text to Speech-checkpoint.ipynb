{
 "cells": [
  {
   "cell_type": "markdown",
   "id": "97a542ce",
   "metadata": {},
   "source": [
    "# 0. Install Dependencies"
   ]
  },
  {
   "cell_type": "code",
   "execution_count": 3,
   "id": "971e20a4",
   "metadata": {},
   "outputs": [
    {
     "name": "stdout",
     "output_type": "stream",
     "text": [
      "Collecting ibm_watson\n",
      "  Downloading ibm-watson-5.2.2.tar.gz (407 kB)\n",
      "  Installing build dependencies: started\n",
      "  Installing build dependencies: finished with status 'done'\n",
      "  Getting requirements to build wheel: started\n",
      "  Getting requirements to build wheel: finished with status 'done'\n",
      "    Preparing wheel metadata: started\n",
      "    Preparing wheel metadata: finished with status 'done'\n",
      "Collecting websocket-client==1.1.0\n",
      "  Downloading websocket_client-1.1.0-py2.py3-none-any.whl (68 kB)\n",
      "Requirement already satisfied: requests<3.0,>=2.0 in c:\\users\\hhane\\appdata\\local\\programs\\python\\python39\\lib\\site-packages (from ibm_watson) (2.25.1)\n",
      "Collecting ibm-cloud-sdk-core==3.*,>=3.3.6\n",
      "  Downloading ibm-cloud-sdk-core-3.10.1.tar.gz (40 kB)\n",
      "Requirement already satisfied: python-dateutil>=2.5.3 in c:\\users\\hhane\\appdata\\local\\programs\\python\\python39\\lib\\site-packages (from ibm_watson) (2.8.1)\n",
      "Collecting PyJWT<3.0.0,>=2.0.1\n",
      "  Downloading PyJWT-2.1.0-py3-none-any.whl (16 kB)\n",
      "Requirement already satisfied: six>=1.5 in c:\\users\\hhane\\appdata\\roaming\\python\\python39\\site-packages (from python-dateutil>=2.5.3->ibm_watson) (1.15.0)\n",
      "Requirement already satisfied: urllib3<1.27,>=1.21.1 in c:\\users\\hhane\\appdata\\local\\programs\\python\\python39\\lib\\site-packages (from requests<3.0,>=2.0->ibm_watson) (1.26.5)\n",
      "Requirement already satisfied: certifi>=2017.4.17 in c:\\users\\hhane\\appdata\\local\\programs\\python\\python39\\lib\\site-packages (from requests<3.0,>=2.0->ibm_watson) (2021.5.30)\n",
      "Requirement already satisfied: chardet<5,>=3.0.2 in c:\\users\\hhane\\appdata\\local\\programs\\python\\python39\\lib\\site-packages (from requests<3.0,>=2.0->ibm_watson) (4.0.0)\n",
      "Requirement already satisfied: idna<3,>=2.5 in c:\\users\\hhane\\appdata\\local\\programs\\python\\python39\\lib\\site-packages (from requests<3.0,>=2.0->ibm_watson) (2.10)\n",
      "Using legacy 'setup.py install' for ibm-cloud-sdk-core, since package 'wheel' is not installed.\n",
      "Building wheels for collected packages: ibm-watson\n",
      "  Building wheel for ibm-watson (PEP 517): started\n",
      "  Building wheel for ibm-watson (PEP 517): finished with status 'done'\n",
      "  Created wheel for ibm-watson: filename=ibm_watson-5.2.2-py3-none-any.whl size=403389 sha256=ec73aabb84da5dad84dcb006a93fd02e15b7f77d01fb2e728280b7e169fc07a5\n",
      "  Stored in directory: c:\\users\\hhane\\appdata\\local\\pip\\cache\\wheels\\34\\e8\\df\\99bea14508f3730b081509ae94a9fb3e876f33aeb465688532\n",
      "Successfully built ibm-watson\n",
      "Installing collected packages: PyJWT, websocket-client, ibm-cloud-sdk-core, ibm-watson\n",
      "  Attempting uninstall: websocket-client\n",
      "    Found existing installation: websocket-client 1.0.1\n",
      "    Uninstalling websocket-client-1.0.1:\n",
      "      Successfully uninstalled websocket-client-1.0.1\n",
      "    Running setup.py install for ibm-cloud-sdk-core: started\n",
      "    Running setup.py install for ibm-cloud-sdk-core: finished with status 'done'\n",
      "Successfully installed PyJWT-2.1.0 ibm-cloud-sdk-core-3.10.1 ibm-watson-5.2.2 websocket-client-1.1.0\n",
      "Note: you may need to restart the kernel to use updated packages.\n"
     ]
    }
   ],
   "source": [
    "pip install ibm_watson"
   ]
  },
  {
   "cell_type": "markdown",
   "id": "011f729d",
   "metadata": {},
   "source": [
    "\n",
    "# 1. Authenticate"
   ]
  },
  {
   "cell_type": "code",
   "execution_count": 4,
   "id": "06140163",
   "metadata": {},
   "outputs": [],
   "source": [
    "apikey = 'CvyLgv7zbY8QwhgycgM4GXEN7OJ3HwyQvlO-JYnKwtBc'\n",
    "url = 'https://api.eu-gb.text-to-speech.watson.cloud.ibm.com/instances/33c19a95-89bf-4fc3-a11b-3772ebd691d8'"
   ]
  },
  {
   "cell_type": "code",
   "execution_count": 5,
   "id": "2070c949",
   "metadata": {},
   "outputs": [],
   "source": [
    "from ibm_watson import TextToSpeechV1\n",
    "from ibm_cloud_sdk_core.authenticators import IAMAuthenticator"
   ]
  },
  {
   "cell_type": "code",
   "execution_count": 6,
   "id": "ca002e28",
   "metadata": {},
   "outputs": [],
   "source": [
    "# Setup Service\n",
    "authenticator = IAMAuthenticator(apikey)\n",
    "# New TTS Service\n",
    "tts = TextToSpeechV1(authenticator=authenticator)\n",
    "# Set Service URL\n",
    "tts.set_service_url(url)"
   ]
  },
  {
   "cell_type": "markdown",
   "id": "a1922221",
   "metadata": {},
   "source": [
    "# 2. Convert a String"
   ]
  },
  {
   "cell_type": "code",
   "execution_count": 7,
   "id": "7da5b766",
   "metadata": {},
   "outputs": [],
   "source": [
    "with open('./speech.mp3', 'wb') as audio_file:\n",
    "    res=tts.synthesize('Hello World!', accept='audio/mp3', voice='en-US_AllisonV3Voice').get_result()\n",
    "    audio_file.write(res.content)"
   ]
  },
  {
   "cell_type": "markdown",
   "id": "0df20502",
   "metadata": {},
   "source": [
    "# 3. Convert from a file"
   ]
  },
  {
   "cell_type": "code",
   "execution_count": 8,
   "id": "113db023",
   "metadata": {},
   "outputs": [],
   "source": [
    "with open('Elizabeth1Story.txt', 'r') as f:\n",
    "    text = f.readlines()"
   ]
  },
  {
   "cell_type": "code",
   "execution_count": 9,
   "id": "e37b35f1",
   "metadata": {},
   "outputs": [
    {
     "data": {
      "text/plain": [
       "['Elizabeth was born nearly 500 years ago, in 1533. Her father, King\\n',\n",
       " 'Henry VIII, had six wives. When Elizabeth was two, her father ordered\\n',\n",
       " 'her motherâ€™s execution.\\n',\n",
       " 'â€˜Off with her head!â€™\\n',\n",
       " 'Elizabeth was very clever, but she had a difficult childhood with her\\n',\n",
       " 'bad-tempered father and so many stepmothers. She was put in\\n',\n",
       " 'prison in the Tower of London for two months when she was twenty. Elizabeth became queen in 1558.\\n',\n",
       " 'â€˜Your sister is dead. You are the new queen.â€™\\n',\n",
       " 'The English people liked Elizabeth and called her â€˜Good Queen Bessâ€™. But Elizabeth was often badtempered and bossy.\\n',\n",
       " 'â€˜I said give me my wig!â€™\\n',\n",
       " 'Elizabeth sent explorers sailing around the world. In 1577, Sir Francis Drake set sail in his ship, the\\n',\n",
       " 'Pelican.\\n',\n",
       " 'â€˜Goodbye, Francis. Discover some new countries and bring me back some Spanish treasure!â€™\\n',\n",
       " 'In 1588, the Spanish king sent a huge fleet of ships to attack England. It was called â€˜the Spanish\\n',\n",
       " 'Armadaâ€™. Elizabeth gave a famous speech to inspire her army.\\n',\n",
       " 'â€˜My loving people! I know I have the body of a weak woman, but I have the heart and stomach of a\\n',\n",
       " 'king. I will live or die amongst you all, but I know we shall have a famous victory!â€™\\n',\n",
       " 'Spain lost the battle.\\n',\n",
       " 'Elizabethâ€™s cousin, Mary, was Queen of Scotland. Mary had to run away from Scotland and she asked\\n',\n",
       " 'Elizabeth to protect her.\\n',\n",
       " 'â€˜Please protect me, Elizabeth!â€™\\n',\n",
       " 'Elizabeth was afraid that Mary wanted to become Queen of England. She locked Mary up. Nineteen\\n',\n",
       " 'years later she ordered Maryâ€™s execution.\\n',\n",
       " 'â€˜Off with her head!â€™\\n',\n",
       " 'Elizabeth was queen for 45 years. It was a golden age for England. She died in 1603, aged 70, and\\n',\n",
       " 'James I, Maryâ€™s son, became king.\\n',\n",
       " 'â€˜Queen Elizabeth is dead. Long live King James!â€™\\n']"
      ]
     },
     "execution_count": 9,
     "metadata": {},
     "output_type": "execute_result"
    }
   ],
   "source": [
    "text"
   ]
  },
  {
   "cell_type": "code",
   "execution_count": 10,
   "id": "153f913f",
   "metadata": {},
   "outputs": [],
   "source": [
    "text = [line.replace('\\n', '') for line in text]\n",
    "text = ''.join(str(line) for line in text)"
   ]
  },
  {
   "cell_type": "code",
   "execution_count": 11,
   "id": "f29fa461",
   "metadata": {},
   "outputs": [
    {
     "data": {
      "text/plain": [
       "'Elizabeth was born nearly 500 years ago, in 1533. Her father, KingHenry VIII, had six wives. When Elizabeth was two, her father orderedher motherâ€™s execution.â€˜Off with her head!â€™Elizabeth was very clever, but she had a difficult childhood with herbad-tempered father and so many stepmothers. She was put inprison in the Tower of London for two months when she was twenty. Elizabeth became queen in 1558.â€˜Your sister is dead. You are the new queen.â€™The English people liked Elizabeth and called her â€˜Good Queen Bessâ€™. But Elizabeth was often badtempered and bossy.â€˜I said give me my wig!â€™Elizabeth sent explorers sailing around the world. In 1577, Sir Francis Drake set sail in his ship, thePelican.â€˜Goodbye, Francis. Discover some new countries and bring me back some Spanish treasure!â€™In 1588, the Spanish king sent a huge fleet of ships to attack England. It was called â€˜the SpanishArmadaâ€™. Elizabeth gave a famous speech to inspire her army.â€˜My loving people! I know I have the body of a weak woman, but I have the heart and stomach of aking. I will live or die amongst you all, but I know we shall have a famous victory!â€™Spain lost the battle.Elizabethâ€™s cousin, Mary, was Queen of Scotland. Mary had to run away from Scotland and she askedElizabeth to protect her.â€˜Please protect me, Elizabeth!â€™Elizabeth was afraid that Mary wanted to become Queen of England. She locked Mary up. Nineteenyears later she ordered Maryâ€™s execution.â€˜Off with her head!â€™Elizabeth was queen for 45 years. It was a golden age for England. She died in 1603, aged 70, andJames I, Maryâ€™s son, became king.â€˜Queen Elizabeth is dead. Long live King James!â€™'"
      ]
     },
     "execution_count": 11,
     "metadata": {},
     "output_type": "execute_result"
    }
   ],
   "source": [
    "text"
   ]
  },
  {
   "cell_type": "code",
   "execution_count": 12,
   "id": "46d9597f",
   "metadata": {},
   "outputs": [],
   "source": [
    "with open('./Elizabeth1Story.mp3', 'wb') as audio_file:\n",
    "    res=tts.synthesize(text, accept='audio/mp3', voice='en-US_AllisonV3Voice').get_result()\n",
    "    audio_file.write(res.content)"
   ]
  },
  {
   "cell_type": "markdown",
   "id": "47912313",
   "metadata": {},
   "source": [
    "# 4. Using new language file"
   ]
  },
  {
   "cell_type": "code",
   "execution_count": 13,
   "id": "b1e61ff4",
   "metadata": {},
   "outputs": [],
   "source": [
    "voice = 'ar-MS_OmarVoice'"
   ]
  },
  {
   "cell_type": "code",
   "execution_count": 14,
   "id": "0ed3a255",
   "metadata": {},
   "outputs": [],
   "source": [
    "poem = \"أنا الذي نظر الأعمى الى أدبي, واسمعت كلماتي من بهِ صمم الخيل والليل والبيـــداء تعرفني, والسيف والرمح والقرطاس والقلم\""
   ]
  },
  {
   "cell_type": "code",
   "execution_count": 15,
   "id": "111fa502",
   "metadata": {},
   "outputs": [],
   "source": [
    "with open('./poemAR.mp3', 'wb') as audio_file:\n",
    "    res=tts.synthesize(poem, accept='audio/mp3', voice=voice).get_result()\n",
    "    audio_file.write(res.content)"
   ]
  },
  {
   "cell_type": "code",
   "execution_count": null,
   "id": "25cf5e72",
   "metadata": {},
   "outputs": [],
   "source": []
  }
 ],
 "metadata": {
  "kernelspec": {
   "display_name": "Python 3",
   "language": "python",
   "name": "python3"
  },
  "language_info": {
   "codemirror_mode": {
    "name": "ipython",
    "version": 3
   },
   "file_extension": ".py",
   "mimetype": "text/x-python",
   "name": "python",
   "nbconvert_exporter": "python",
   "pygments_lexer": "ipython3",
   "version": "3.9.0"
  }
 },
 "nbformat": 4,
 "nbformat_minor": 5
}
